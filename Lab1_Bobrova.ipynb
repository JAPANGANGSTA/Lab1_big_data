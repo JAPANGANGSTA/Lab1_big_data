{
 "cells": [
  {
   "cell_type": "raw",
   "id": "abdab0b8-9d48-402c-bdaa-e49ff12acf61",
   "metadata": {},
   "source": [
    "# Getting\n",
    "## Start\n",
    "* With\n",
    "* Jupyter"
   ]
  },
  {
   "cell_type": "code",
   "execution_count": 4,
   "id": "ec5b7b4c-bef6-4a80-901c-74e4e3d4571c",
   "metadata": {},
   "outputs": [
    {
     "data": {
      "text/plain": [
       "\u001b[1;31mSignature:\u001b[0m \u001b[0mprint\u001b[0m\u001b[1;33m(\u001b[0m\u001b[1;33m*\u001b[0m\u001b[0margs\u001b[0m\u001b[1;33m,\u001b[0m \u001b[0msep\u001b[0m\u001b[1;33m=\u001b[0m\u001b[1;34m' '\u001b[0m\u001b[1;33m,\u001b[0m \u001b[0mend\u001b[0m\u001b[1;33m=\u001b[0m\u001b[1;34m'\\n'\u001b[0m\u001b[1;33m,\u001b[0m \u001b[0mfile\u001b[0m\u001b[1;33m=\u001b[0m\u001b[1;32mNone\u001b[0m\u001b[1;33m,\u001b[0m \u001b[0mflush\u001b[0m\u001b[1;33m=\u001b[0m\u001b[1;32mFalse\u001b[0m\u001b[1;33m)\u001b[0m\u001b[1;33m\u001b[0m\u001b[1;33m\u001b[0m\u001b[0m\n",
       "\u001b[1;31mDocstring:\u001b[0m\n",
       "Prints the values to a stream, or to sys.stdout by default.\n",
       "\n",
       "sep\n",
       "  string inserted between values, default a space.\n",
       "end\n",
       "  string appended after the last value, default a newline.\n",
       "file\n",
       "  a file-like object (stream); defaults to the current sys.stdout.\n",
       "flush\n",
       "  whether to forcibly flush the stream.\n",
       "\u001b[1;31mType:\u001b[0m      builtin_function_or_method"
      ]
     },
     "metadata": {},
     "output_type": "display_data"
    }
   ],
   "source": [
    "print?"
   ]
  },
  {
   "cell_type": "code",
   "execution_count": 5,
   "id": "4188b11e-c8cf-43ab-9cc6-1eeb26a6b32e",
   "metadata": {},
   "outputs": [
    {
     "name": "stdout",
     "output_type": "stream",
     "text": [
      "1\n"
     ]
    }
   ],
   "source": [
    "i = 1\n",
    "print(i)"
   ]
  },
  {
   "cell_type": "code",
   "execution_count": 7,
   "id": "ecf2e4c8-bd93-48ef-b8bc-f06e5ca9a2e4",
   "metadata": {},
   "outputs": [
    {
     "name": "stdout",
     "output_type": "stream",
     "text": [
      "<class 'int'>\n"
     ]
    }
   ],
   "source": [
    "a = 1\n",
    "t = type(a)\n",
    "print(t)"
   ]
  },
  {
   "cell_type": "code",
   "execution_count": 8,
   "id": "ec5bdd0f-6d54-4747-9e72-a4b0f78836c9",
   "metadata": {},
   "outputs": [
    {
     "name": "stdout",
     "output_type": "stream",
     "text": [
      "<class 'float'>\n"
     ]
    }
   ],
   "source": [
    "p = 3.14\n",
    "t = type(p)\n",
    "print(t)"
   ]
  },
  {
   "cell_type": "code",
   "execution_count": 9,
   "id": "32b5fb1b-ab73-4a0a-a259-5804fe76fda7",
   "metadata": {},
   "outputs": [
    {
     "name": "stdout",
     "output_type": "stream",
     "text": [
      "[2, 4, 6]\n",
      "{'do': 1, 'bo': 2, 'db': 'oo'}\n",
      "1\n"
     ]
    },
    {
     "data": {
      "text/plain": [
       "NoneType"
      ]
     },
     "execution_count": 9,
     "metadata": {},
     "output_type": "execute_result"
    }
   ],
   "source": [
    "z = 3\n",
    "type(z)\n",
    "x = 3.3\n",
    "type(x)\n",
    "y = True\n",
    "type(y)\n",
    "q = \"Hello world!\"\n",
    "type(q)\n",
    "r = [2, 4, 6]\n",
    "print(r)\n",
    "w = {'do':1, 'bo':2, 'db':'oo'}\n",
    "print(w)\n",
    "print(w['do'])\n",
    "n = None\n",
    "type(n)"
   ]
  },
  {
   "cell_type": "code",
   "execution_count": 15,
   "id": "9e7d56bc-b880-4dd3-9eea-dfacd957cea7",
   "metadata": {},
   "outputs": [
    {
     "name": "stdout",
     "output_type": "stream",
     "text": [
      "Корень из 16 = 4.0 , Факториал 5 = 120 , Основание логарифма = 2.0\n"
     ]
    }
   ],
   "source": [
    "import math\n",
    "koren = math.sqrt(16)\n",
    "fact = math.factorial(5)\n",
    "log = math.log(100, 10)\n",
    "print('Корень из 16 =', koren, ', Факториал 5 =', fact, ', Основание логарифма =', log)"
   ]
  },
  {
   "cell_type": "code",
   "execution_count": 17,
   "id": "0b3d112b-13c1-482f-8ab3-c03c87a50359",
   "metadata": {},
   "outputs": [
    {
     "name": "stdout",
     "output_type": "stream",
     "text": [
      "A-B-C\n"
     ]
    }
   ],
   "source": [
    "print('A', 'B', 'C', sep='-')"
   ]
  },
  {
   "cell_type": "code",
   "execution_count": 18,
   "id": "f5bcae30-7cb7-47b7-9dc6-f717981aab7e",
   "metadata": {},
   "outputs": [
    {
     "name": "stdout",
     "output_type": "stream",
     "text": [
      "Вы в возрасте трудоспособности.\n"
     ]
    }
   ],
   "source": [
    "age = 20\n",
    "\n",
    "if age < 18:\n",
    "    print(\"Вы слишком молоды.\")\n",
    "elif age >= 18 and age < 65:\n",
    "    print(\"Вы в возрасте трудоспособности.\")\n",
    "else:\n",
    "    print(\"Вы в пенсионном возрасте.\")\n"
   ]
  },
  {
   "cell_type": "code",
   "execution_count": 22,
   "id": "7a20dc3b-5053-4e02-8665-d77ea10ba28c",
   "metadata": {},
   "outputs": [
    {
     "name": "stdout",
     "output_type": "stream",
     "text": [
      "[2, 4, 6]\n",
      "2\n",
      "4\n",
      "6\n"
     ]
    }
   ],
   "source": [
    "l = [2, 4, 6]\n",
    "print(l)\n",
    "for i in l:\n",
    "    print(i)"
   ]
  },
  {
   "cell_type": "code",
   "execution_count": 23,
   "id": "a8543a24-692b-4787-8943-4c0dca3d68a9",
   "metadata": {},
   "outputs": [
    {
     "name": "stdout",
     "output_type": "stream",
     "text": [
      "Это число от 1 до 5: 0\n",
      "Это число от 1 до 5: 1\n",
      "Это число от 1 до 5: 2\n",
      "Это число от 1 до 5: 3\n",
      "Это число от 1 до 5: 4\n"
     ]
    }
   ],
   "source": [
    "for i in range(5):\n",
    "    print('Это число от 1 до 5:',i)"
   ]
  },
  {
   "cell_type": "code",
   "execution_count": 33,
   "id": "275ac150-3ff4-482f-bdfa-3e6f0bdd83bc",
   "metadata": {},
   "outputs": [
    {
     "name": "stdout",
     "output_type": "stream",
     "text": [
      "Number: 0\n",
      "Number: 1\n",
      "Number: 2\n",
      "Number: 3\n",
      "Number: 4\n",
      "Number: 5\n",
      "Number: 6\n",
      "Number: 7\n",
      "Number: 8\n",
      "Number: 9\n",
      "Number: 10\n",
      "Number: 11\n",
      "Number: 12\n",
      "Number: 13\n",
      "Number: 14\n",
      "Number: 15\n",
      "Number: 16\n",
      "Number: 17\n",
      "Number: 18\n",
      "Number: 19\n",
      "Number: 20\n",
      "Number: 21\n",
      "Number: 22\n",
      "Number: 23\n",
      "Number: 24\n",
      "Number: 25\n",
      "Number: 26\n",
      "Number: 27\n",
      "Number: 28\n",
      "Number: 29\n",
      "Number: 30\n",
      "Number: 31\n",
      "Number: 32\n",
      "Number: 33\n",
      "Number: 34\n",
      "Number: 35\n",
      "Number: 36\n",
      "Number: 37\n",
      "Number: 38\n",
      "Number: 39\n",
      "Number: 40\n",
      "Number: 41\n",
      "Number: 42\n",
      "Number: 43\n",
      "Number: 44\n",
      "Number: 45\n",
      "Number: 46\n",
      "Number: 47\n",
      "Number: 48\n",
      "Number: 49\n"
     ]
    }
   ],
   "source": [
    "import  time\n",
    "for i in range(50):\n",
    "    time.sleep(0)\n",
    "    print('Number:',i)"
   ]
  },
  {
   "cell_type": "code",
   "execution_count": 35,
   "id": "c1b20245-fc02-404a-b025-73acf2f53413",
   "metadata": {},
   "outputs": [
    {
     "name": "stdout",
     "output_type": "stream",
     "text": [
      "Значение count: 1\n",
      "Значение count: 2\n",
      "Значение count: 3\n",
      "Значение count: 4\n"
     ]
    }
   ],
   "source": [
    "count = 1\n",
    "\n",
    "while count < 5:\n",
    "    print(\"Значение count:\", count)\n",
    "    count += 1  # Увеличиваем значение переменной на 1\n"
   ]
  },
  {
   "cell_type": "code",
   "execution_count": 37,
   "id": "9a6bea6c-f8d9-4496-97aa-f14bd62ee503",
   "metadata": {},
   "outputs": [
    {
     "name": "stdout",
     "output_type": "stream",
     "text": [
      "8\n"
     ]
    }
   ],
   "source": [
    "def fun(x):\n",
    "    y = 2 * x + 4\n",
    "    return y\n",
    "\n",
    "z = 2\n",
    "result = fun(z)\n",
    "print(result)"
   ]
  },
  {
   "cell_type": "code",
   "execution_count": 38,
   "id": "e3f149bd-37c5-486b-b275-a412be13a727",
   "metadata": {},
   "outputs": [
    {
     "name": "stdout",
     "output_type": "stream",
     "text": [
      "8.0\n"
     ]
    }
   ],
   "source": [
    "average = lambda a, b, c: (a + b + c) / 3\n",
    "print(average(4, 8, 12))"
   ]
  },
  {
   "cell_type": "markdown",
   "id": "55367669-e121-457a-a6ef-31f924f7923c",
   "metadata": {},
   "source": [
    "<h1> Heading 1 </h1>\n",
    "<h2> Heading 2 </h2>\n",
    "<h3> Heading 3 </h3>\n",
    "<h4> Heading 4 </h4>\n",
    "<h5> Heading 5 </h5>\n",
    "<h6> Heading 6 </h6>"
   ]
  },
  {
   "cell_type": "markdown",
   "id": "435077cd-8c48-42d4-9729-b1051688a718",
   "metadata": {},
   "source": [
    "<img src = 'https://static.vecteezy.com/system/resources/thumbnails/025/181/412/small_2x/picture-a-captivating-scene-of-a-tranquil-lake-at-sunset-ai-generative-photo.jpg'>"
   ]
  },
  {
   "cell_type": "markdown",
   "id": "d545aa39-ebf8-413d-b906-a799b6f8efa9",
   "metadata": {},
   "source": [
    "\\begin{equation*}\n",
    "S=a^2\n",
    "\\end{equation*}"
   ]
  },
  {
   "cell_type": "code",
   "execution_count": 46,
   "id": "059b860a-aaa6-47a9-b70c-5262e54574bf",
   "metadata": {},
   "outputs": [
    {
     "name": "stdout",
     "output_type": "stream",
     "text": [
      "\n",
      "ЋЎ¬Ґ­ Ї ЄҐв ¬Ё б google.com [142.250.74.174] б 32 Ў ©в ¬Ё ¤ ­­ле:\n",
      "ЋвўҐв ®в 142.250.74.174: зЁб«® Ў ©в=32 ўаҐ¬п=112¬б TTL=52\n",
      "ЋвўҐв ®в 142.250.74.174: зЁб«® Ў ©в=32 ўаҐ¬п=99¬б TTL=52\n",
      "ЋвўҐв ®в 142.250.74.174: зЁб«® Ў ©в=32 ўаҐ¬п=101¬б TTL=52\n",
      "ЋвўҐв ®в 142.250.74.174: зЁб«® Ў ©в=32 ўаҐ¬п=102¬б TTL=52\n",
      "\n",
      "‘в вЁбвЁЄ  Ping ¤«п 142.250.74.174:\n",
      "    Џ ЄҐв®ў: ®вЇа ў«Ґ­® = 4, Ї®«гзҐ­® = 4, Ї®вҐап­® = 0\n",
      "    (0% Ї®вҐам)\n",
      "ЏаЁЎ«Ё§ЁвҐ«м­®Ґ ўаҐ¬п ЇаЁҐ¬ -ЇҐаҐ¤ зЁ ў ¬б:\n",
      "    ЊЁ­Ё¬ «м­®Ґ = 99¬бҐЄ, Њ ЄбЁ¬ «м­®Ґ = 112 ¬бҐЄ, ‘аҐ¤­ҐҐ = 103 ¬бҐЄ\n"
     ]
    }
   ],
   "source": [
    "! ping google.com"
   ]
  },
  {
   "cell_type": "code",
   "execution_count": 47,
   "id": "d186c510-f9ea-4499-b71e-ab7113d4d693",
   "metadata": {},
   "outputs": [
    {
     "name": "stdout",
     "output_type": "stream",
     "text": [
      "\n",
      "Ќ бва®©Є  Їа®в®Є®«  IP ¤«п Windows\n",
      "\n",
      "\n",
      "Ђ¤ ЇвҐа Ethernet Radmin VPN:\n",
      "\n",
      "   DNS-бгддЁЄб Ї®¤Є«озҐ­Ёп . . . . . : \n",
      "   IPv6- ¤аҐб. . . . . . . . . . . . : fdfd::1aaa:4de\n",
      "   ‹®Є «м­л© IPv6- ¤аҐб Є ­ «  . . . : fe80::6abd:8651:5775:3e0e%20\n",
      "   IPv4- ¤аҐб. . . . . . . . . . . . : 26.170.4.222\n",
      "   Њ бЄ  Ї®¤бҐвЁ . . . . . . . . . . : 255.0.0.0\n",
      "   Ћб­®ў­®© и«о§. . . . . . . . . : 26.0.0.1\n",
      "\n",
      "Ђ¤ ЇвҐа ЎҐбЇа®ў®¤­®© «®Є «м­®© бҐвЁ Џ®¤Є«озҐ­ЁҐ Ї® «®Є «м­®© бҐвЁ* 1:\n",
      "\n",
      "   ‘®бв®п­ЁҐ баҐ¤л. . . . . . . . : ‘аҐ¤  ЇҐаҐ¤ зЁ ­Ґ¤®бвгЇ­ .\n",
      "   DNS-бгддЁЄб Ї®¤Є«озҐ­Ёп . . . . . : \n",
      "\n",
      "Ђ¤ ЇвҐа ЎҐбЇа®ў®¤­®© «®Є «м­®© бҐвЁ Џ®¤Є«озҐ­ЁҐ Ї® «®Є «м­®© бҐвЁ* 2:\n",
      "\n",
      "   ‘®бв®п­ЁҐ баҐ¤л. . . . . . . . : ‘аҐ¤  ЇҐаҐ¤ зЁ ­Ґ¤®бвгЇ­ .\n",
      "   DNS-бгддЁЄб Ї®¤Є«озҐ­Ёп . . . . . : \n",
      "\n",
      "Ђ¤ ЇвҐа ЎҐбЇа®ў®¤­®© «®Є «м­®© бҐвЁ ЃҐбЇа®ў®¤­ п бҐвм:\n",
      "\n",
      "   DNS-бгддЁЄб Ї®¤Є«озҐ­Ёп . . . . . : \n",
      "   ‹®Є «м­л© IPv6- ¤аҐб Є ­ «  . . . : fe80::76f2:85d6:a701:b5e5%5\n",
      "   IPv4- ¤аҐб. . . . . . . . . . . . : 192.168.156.81\n",
      "   Њ бЄ  Ї®¤бҐвЁ . . . . . . . . . . : 255.255.255.0\n",
      "   Ћб­®ў­®© и«о§. . . . . . . . . : 192.168.156.90\n",
      "\n",
      "Ђ¤ ЇвҐа Ethernet ‘ҐвҐў®Ґ Ї®¤Є«озҐ­ЁҐ Bluetooth:\n",
      "\n",
      "   ‘®бв®п­ЁҐ баҐ¤л. . . . . . . . : ‘аҐ¤  ЇҐаҐ¤ зЁ ­Ґ¤®бвгЇ­ .\n",
      "   DNS-бгддЁЄб Ї®¤Є«озҐ­Ёп . . . . . : \n",
      "\n",
      "Ђ¤ ЇвҐа Ethernet Ethernet:\n",
      "\n",
      "   ‘®бв®п­ЁҐ баҐ¤л. . . . . . . . : ‘аҐ¤  ЇҐаҐ¤ зЁ ­Ґ¤®бвгЇ­ .\n",
      "   DNS-бгддЁЄб Ї®¤Є«озҐ­Ёп . . . . . : \n",
      "\n",
      "’г­­Ґ«м­л©  ¤ ЇвҐа Teredo Tunneling Pseudo-Interface:\n",
      "\n",
      "   DNS-бгддЁЄб Ї®¤Є«озҐ­Ёп . . . . . : \n",
      "   IPv6- ¤аҐб. . . . . . . . . . . . : 2001:0:284a:364:ec:26c0:468a:6897\n",
      "   ‹®Є «м­л© IPv6- ¤аҐб Є ­ «  . . . : fe80::ec:26c0:468a:6897%14\n",
      "   Ћб­®ў­®© и«о§. . . . . . . . . : \n"
     ]
    }
   ],
   "source": [
    "! ipconfig"
   ]
  },
  {
   "cell_type": "code",
   "execution_count": 49,
   "id": "4ad6398a-0167-4fa8-af53-de33c52ea38c",
   "metadata": {},
   "outputs": [
    {
     "name": "stdout",
     "output_type": "stream",
     "text": [
      "5.220274555540264e-22\n"
     ]
    }
   ],
   "source": [
    "def func(t):\n",
    "    f=(9*math.pi*t+10*math.cos(math.cos(t)))*math.e/(math.sqrt(t)-math.sin(math.sin(t)))\n",
    "    f=math.pow(f, -2*t)\n",
    "    return f\n",
    "print(func(5))"
   ]
  },
  {
   "cell_type": "code",
   "execution_count": 50,
   "id": "e317b9bf-4f9d-48a9-829c-8ccbeefd5933",
   "metadata": {},
   "outputs": [
    {
     "name": "stdout",
     "output_type": "stream",
     "text": [
      "[4, 3]\n"
     ]
    }
   ],
   "source": [
    "def find_in_interval(x1, x2, x3, a, b):\n",
    "    # Приведение границ интервала в правильный порядок\n",
    "    lower_bound = min(a, b)\n",
    "    upper_bound = max(a, b)\n",
    "    \n",
    "    # Находим числа, принадлежащие интервалу [lower_bound, upper_bound]\n",
    "    results = []\n",
    "    for x in (x1, x2, x3):\n",
    "        if lower_bound <= x <= upper_bound:\n",
    "            results.append(x)\n",
    "    \n",
    "    return results\n",
    "\n",
    "# Пример использования функции\n",
    "a = 5\n",
    "b = 2\n",
    "x1 = 4\n",
    "x2 = 7\n",
    "x3 = 3\n",
    "\n",
    "print(find_in_interval(x1, x2, x3, a, b))"
   ]
  },
  {
   "cell_type": "code",
   "execution_count": 51,
   "id": "c3bea4a4-9482-4f80-af6e-684faed17964",
   "metadata": {},
   "outputs": [
    {
     "name": "stdout",
     "output_type": "stream",
     "text": [
      "[4, 0, 4, 4, 6, 1, 8, 4, 7, 8, 0, 6, 10, 0, 5, 6, 1, 2, 0, 2]\n"
     ]
    }
   ],
   "source": [
    "import random\n",
    "def generate_random_numbers(count, lower_bound, upper_bound):\n",
    "    return [random.randint(lower_bound, upper_bound) for _ in range(count)]\n",
    "random_numbers = generate_random_numbers(20, 0, 10)\n",
    "print(random_numbers)"
   ]
  },
  {
   "cell_type": "code",
   "execution_count": 52,
   "id": "3ee91147-a2c7-4379-9878-c135c0b653df",
   "metadata": {},
   "outputs": [
    {
     "name": "stdout",
     "output_type": "stream",
     "text": [
      "8.209021097669307\n"
     ]
    }
   ],
   "source": [
    "def calculate_sequence_sum(count):\n",
    "    return sum(n / (2 * n + 3) for n in range(1, count + 1))\n",
    "sum_of_sequence = calculate_sequence_sum(20)\n",
    "print(sum_of_sequence)"
   ]
  },
  {
   "cell_type": "raw",
   "id": "b92dc111-7f7e-4262-8661-417fb452e997",
   "metadata": {},
   "source": [
    "1.Почему для работы с большими данными и для машинного обучения выбирают язык Python? Перечислите не менее трех причин.\n",
    "1)простой язык сценариев, который упрощает взаимодействие с данными\n",
    "2)имеет широкий спектр пакетов, которые упрощают начало работы и создание приложений, от самых простых до самых сложных.\n",
    "3)Python широко используется в промышленности\n",
    "2.В чем особенности среды Jupyter Notebook, почему ее выбирают специалисты по Data Science? \n",
    "\n",
    "3.Перечислите основные библиотеки Python для машинного обучения.\n",
    "Pandas, Scipy, Matplotlib, Numpy\n",
    "4.Какие типы данных Python вы знаете?\n",
    "int - целые числа\n",
    "float - вещественные числа\n",
    "str - строка\n",
    "list - список\n",
    "tuple - кортеж\n",
    "dict - словарь\n",
    "bool - тип данных буллеан( true, false)\n",
    "NonetType - отсутствие значения\n",
    "5. Назовите основные языковые конструкции Python.\n",
    "условные операторы - if,else, elif\n",
    "циклы - for, while\n",
    "операторы создания функций - def, lambda\n",
    "6.Какое назначение у оператора if … else?\n",
    "создание условия и проверка его на истиность или ложность( например нужно узнать больше ли переменная а какого-то числа, если да то умножить его, если нет то разделить, в это случае нам понадобиться if и else для проверки условия больше/меньше и для обазанчаения дальнейших действий)\n",
    "7.Когда заканчивается выполнение оператора while?\n",
    "когда условие цикла становится ложным или когда вы вручную внутри цикла закрываете его\n",
    "8.Какие способы задания функций есть в Python?\n",
    "обычная функция с помощью ключевое слово def\n",
    "анонимная функция с помощью ключевого слова lambda\n",
    "9.Что такое Лямбда-функция?\n",
    "Лямбда-функция — это небольшая анонимная функция.\n",
    "Лямбда-функция может принимать любое количество аргументов, но иметь только одно выражение.\n",
    "10.Какая библиотека Python отвечает за выполнение основным математических функций?\n",
    "библиотека math\n",
    "11.Назовите дополнительные возможности использования среды Jupyter Notebook.\n",
    "В Jyputer Notebook можно внедрять теги языка разметки html и назначать им стили.\n",
    "Вставка математических формул с помощью встроенного редактора TeX.\n",
    "Выполнение команд консоли."
   ]
  }
 ],
 "metadata": {
  "kernelspec": {
   "display_name": "Python 3 (ipykernel)",
   "language": "python",
   "name": "python3"
  },
  "language_info": {
   "codemirror_mode": {
    "name": "ipython",
    "version": 3
   },
   "file_extension": ".py",
   "mimetype": "text/x-python",
   "name": "python",
   "nbconvert_exporter": "python",
   "pygments_lexer": "ipython3",
   "version": "3.11.9"
  }
 },
 "nbformat": 4,
 "nbformat_minor": 5
}
